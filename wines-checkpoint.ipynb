{
 "cells": [
  {
   "cell_type": "code",
   "execution_count": 59,
   "metadata": {},
   "outputs": [],
   "source": [
    "# Formação Cientista de Dados - Fernando Amaral e Jones Granatyr\n",
    "# Árvores de decisão"
   ]
  },
  {
   "cell_type": "code",
   "execution_count": 60,
   "metadata": {},
   "outputs": [],
   "source": [
    "# Importação das bibliotecas\n",
    "import pandas as pd\n",
    "from sklearn.model_selection import train_test_split\n",
    "from sklearn.preprocessing import LabelEncoder\n",
    "from sklearn.metrics import confusion_matrix, accuracy_score\n",
    "from sklearn.tree import DecisionTreeClassifier\n",
    "import graphviz\n",
    "from sklearn.tree import export_graphviz\n",
    "#conda install -c conda-forge python-graphviz (para evitar warnings)"
   ]
  },
  {
   "cell_type": "code",
   "execution_count": 63,
   "metadata": {},
   "outputs": [
    {
     "data": {
      "text/plain": [
       "(1599, 12)"
      ]
     },
     "execution_count": 63,
     "metadata": {},
     "output_type": "execute_result"
    }
   ],
   "source": [
    "# Carregamento da base de dados e definição dos previsores (variáveis independentes - X) e classe (variável dependente - y)\n",
    "credito = pd.read_excel('C:/Users/jalei/OneDrive/Área de Trabalho/CIÊNCIA DE DADOS/alan/winequality-red.xlsx')\n",
    "credito.shape"
   ]
  },
  {
   "cell_type": "code",
   "execution_count": 64,
   "metadata": {},
   "outputs": [
    {
     "data": {
      "text/html": [
       "<div>\n",
       "<style scoped>\n",
       "    .dataframe tbody tr th:only-of-type {\n",
       "        vertical-align: middle;\n",
       "    }\n",
       "\n",
       "    .dataframe tbody tr th {\n",
       "        vertical-align: top;\n",
       "    }\n",
       "\n",
       "    .dataframe thead th {\n",
       "        text-align: right;\n",
       "    }\n",
       "</style>\n",
       "<table border=\"1\" class=\"dataframe\">\n",
       "  <thead>\n",
       "    <tr style=\"text-align: right;\">\n",
       "      <th></th>\n",
       "      <th>fixed acidity</th>\n",
       "      <th>volatile acidity</th>\n",
       "      <th>citric acid</th>\n",
       "      <th>residual sugar</th>\n",
       "      <th>chlorides</th>\n",
       "      <th>free sulfur dioxide</th>\n",
       "      <th>total sulfur dioxide</th>\n",
       "      <th>density</th>\n",
       "      <th>pH</th>\n",
       "      <th>sulphates</th>\n",
       "      <th>alcohol</th>\n",
       "      <th>quality</th>\n",
       "    </tr>\n",
       "  </thead>\n",
       "  <tbody>\n",
       "    <tr>\n",
       "      <th>0</th>\n",
       "      <td>7.4</td>\n",
       "      <td>0.70</td>\n",
       "      <td>0.00</td>\n",
       "      <td>1.9</td>\n",
       "      <td>0.076</td>\n",
       "      <td>11.0</td>\n",
       "      <td>34.0</td>\n",
       "      <td>0.9978</td>\n",
       "      <td>3.51</td>\n",
       "      <td>0.56</td>\n",
       "      <td>9.4</td>\n",
       "      <td>5</td>\n",
       "    </tr>\n",
       "    <tr>\n",
       "      <th>1</th>\n",
       "      <td>7.8</td>\n",
       "      <td>0.88</td>\n",
       "      <td>0.00</td>\n",
       "      <td>2.6</td>\n",
       "      <td>0.098</td>\n",
       "      <td>25.0</td>\n",
       "      <td>67.0</td>\n",
       "      <td>0.9968</td>\n",
       "      <td>3.20</td>\n",
       "      <td>0.68</td>\n",
       "      <td>9.8</td>\n",
       "      <td>5</td>\n",
       "    </tr>\n",
       "    <tr>\n",
       "      <th>2</th>\n",
       "      <td>7.8</td>\n",
       "      <td>0.76</td>\n",
       "      <td>0.04</td>\n",
       "      <td>2.3</td>\n",
       "      <td>0.092</td>\n",
       "      <td>15.0</td>\n",
       "      <td>54.0</td>\n",
       "      <td>0.9970</td>\n",
       "      <td>3.26</td>\n",
       "      <td>0.65</td>\n",
       "      <td>9.8</td>\n",
       "      <td>5</td>\n",
       "    </tr>\n",
       "    <tr>\n",
       "      <th>3</th>\n",
       "      <td>11.2</td>\n",
       "      <td>0.28</td>\n",
       "      <td>0.56</td>\n",
       "      <td>1.9</td>\n",
       "      <td>0.075</td>\n",
       "      <td>17.0</td>\n",
       "      <td>60.0</td>\n",
       "      <td>0.9980</td>\n",
       "      <td>3.16</td>\n",
       "      <td>0.58</td>\n",
       "      <td>9.8</td>\n",
       "      <td>6</td>\n",
       "    </tr>\n",
       "    <tr>\n",
       "      <th>4</th>\n",
       "      <td>7.4</td>\n",
       "      <td>0.70</td>\n",
       "      <td>0.00</td>\n",
       "      <td>1.9</td>\n",
       "      <td>0.076</td>\n",
       "      <td>11.0</td>\n",
       "      <td>34.0</td>\n",
       "      <td>0.9978</td>\n",
       "      <td>3.51</td>\n",
       "      <td>0.56</td>\n",
       "      <td>9.4</td>\n",
       "      <td>5</td>\n",
       "    </tr>\n",
       "  </tbody>\n",
       "</table>\n",
       "</div>"
      ],
      "text/plain": [
       "   fixed acidity  volatile acidity  citric acid  residual sugar  chlorides  \\\n",
       "0            7.4              0.70         0.00             1.9      0.076   \n",
       "1            7.8              0.88         0.00             2.6      0.098   \n",
       "2            7.8              0.76         0.04             2.3      0.092   \n",
       "3           11.2              0.28         0.56             1.9      0.075   \n",
       "4            7.4              0.70         0.00             1.9      0.076   \n",
       "\n",
       "   free sulfur dioxide  total sulfur dioxide  density    pH  sulphates  \\\n",
       "0                 11.0                  34.0   0.9978  3.51       0.56   \n",
       "1                 25.0                  67.0   0.9968  3.20       0.68   \n",
       "2                 15.0                  54.0   0.9970  3.26       0.65   \n",
       "3                 17.0                  60.0   0.9980  3.16       0.58   \n",
       "4                 11.0                  34.0   0.9978  3.51       0.56   \n",
       "\n",
       "   alcohol  quality  \n",
       "0      9.4        5  \n",
       "1      9.8        5  \n",
       "2      9.8        5  \n",
       "3      9.8        6  \n",
       "4      9.4        5  "
      ]
     },
     "execution_count": 64,
     "metadata": {},
     "output_type": "execute_result"
    }
   ],
   "source": [
    "credito.head()"
   ]
  },
  {
   "cell_type": "code",
   "execution_count": 65,
   "metadata": {},
   "outputs": [],
   "source": [
    "previsores = credito.iloc[:,0:11].values\n",
    "classe = credito.iloc[:,11].values"
   ]
  },
  {
   "cell_type": "code",
   "execution_count": 66,
   "metadata": {},
   "outputs": [],
   "source": [
    "# Divisão da base de dados entre treinamento e teste. Usamos 30% para testar e 70% para treinar. Random_state = 0 para sempre obter a mesma divisão da base quando o código for executado\n",
    "X_treinamento, X_teste, y_treinamento, y_teste = train_test_split(previsores,\n",
    "                                                                  classe,\n",
    "                                                                  test_size = 0.3,\n",
    "                                                                  random_state = 0)"
   ]
  },
  {
   "cell_type": "code",
   "execution_count": 67,
   "metadata": {},
   "outputs": [
    {
     "data": {
      "text/plain": [
       "DecisionTreeClassifier()"
      ]
     },
     "execution_count": 67,
     "metadata": {},
     "output_type": "execute_result"
    }
   ],
   "source": [
    "# Criação e treinamento do modelo\n",
    "arvore = DecisionTreeClassifier()\n",
    "arvore.fit(X_treinamento, y_treinamento)"
   ]
  },
  {
   "cell_type": "code",
   "execution_count": 68,
   "metadata": {},
   "outputs": [],
   "source": [
    "# Exportação da árvore de decisão para o formato .dot, para posterior visualização\n",
    "export_graphviz(arvore, out_file = 'tree.dot')"
   ]
  },
  {
   "cell_type": "code",
   "execution_count": 69,
   "metadata": {
    "lines_to_next_cell": 2
   },
   "outputs": [
    {
     "data": {
      "text/plain": [
       "array([7, 4, 7, 5, 5, 5, 6, 6, 5, 5, 6, 5, 6, 4, 5, 7, 7, 5, 5, 6, 6, 5,\n",
       "       6, 7, 6, 5, 5, 7, 5, 6, 6, 6, 7, 5, 7, 7, 5, 6, 6, 4, 6, 4, 7, 6,\n",
       "       6, 5, 5, 6, 5, 8, 5, 6, 6, 6, 6, 5, 5, 5, 7, 7, 5, 6, 6, 6, 5, 7,\n",
       "       5, 5, 7, 6, 6, 5, 5, 5, 6, 6, 5, 5, 5, 6, 6, 6, 7, 7, 6, 7, 7, 5,\n",
       "       7, 4, 5, 5, 7, 5, 6, 6, 8, 5, 6, 5, 7, 6, 7, 6, 5, 5, 5, 5, 6, 5,\n",
       "       6, 5, 8, 6, 6, 6, 6, 7, 6, 6, 5, 5, 5, 5, 7, 6, 5, 5, 6, 7, 6, 5,\n",
       "       6, 6, 6, 5, 6, 5, 6, 5, 6, 7, 5, 5, 5, 6, 8, 6, 5, 5, 5, 6, 5, 6,\n",
       "       6, 6, 5, 6, 6, 5, 5, 7, 8, 5, 5, 5, 6, 6, 6, 6, 5, 6, 5, 7, 3, 6,\n",
       "       6, 7, 7, 5, 5, 7, 6, 6, 7, 5, 6, 7, 5, 7, 6, 5, 5, 6, 5, 5, 6, 6,\n",
       "       7, 5, 5, 6, 6, 6, 6, 5, 5, 7, 5, 6, 6, 6, 5, 7, 5, 5, 5, 5, 6, 6,\n",
       "       5, 7, 7, 5, 5, 6, 6, 5, 6, 5, 5, 6, 5, 6, 7, 6, 5, 7, 7, 6, 5, 6,\n",
       "       5, 5, 5, 5, 6, 5, 5, 6, 5, 5, 6, 5, 5, 6, 5, 6, 5, 7, 6, 6, 5, 6,\n",
       "       5, 5, 6, 5, 5, 7, 5, 6, 5, 5, 7, 6, 6, 6, 6, 6, 5, 7, 6, 5, 6, 5,\n",
       "       5, 5, 7, 5, 5, 5, 5, 6, 5, 6, 5, 4, 5, 5, 6, 5, 6, 6, 6, 7, 6, 5,\n",
       "       6, 5, 5, 6, 5, 5, 5, 6, 7, 6, 6, 7, 5, 5, 6, 7, 6, 4, 7, 6, 5, 5,\n",
       "       7, 5, 5, 7, 4, 7, 7, 5, 5, 6, 5, 5, 5, 7, 6, 6, 6, 5, 5, 6, 6, 5,\n",
       "       7, 5, 6, 5, 6, 5, 5, 7, 5, 6, 5, 6, 7, 6, 6, 7, 5, 4, 6, 5, 5, 6,\n",
       "       5, 5, 6, 6, 6, 6, 6, 6, 5, 5, 6, 5, 5, 5, 5, 6, 6, 6, 5, 7, 4, 5,\n",
       "       5, 5, 6, 5, 5, 5, 5, 6, 5, 5, 6, 7, 6, 7, 5, 5, 4, 6, 6, 4, 6, 5,\n",
       "       6, 4, 7, 5, 6, 5, 5, 5, 5, 6, 5, 5, 5, 5, 5, 7, 5, 6, 6, 6, 5, 5,\n",
       "       6, 6, 6, 5, 5, 5, 5, 8, 7, 7, 6, 5, 7, 6, 6, 5, 5, 5, 5, 5, 5, 5,\n",
       "       5, 5, 5, 5, 6, 5, 5, 5, 6, 5, 5, 6, 5, 5, 5, 5, 5, 5], dtype=int64)"
      ]
     },
     "execution_count": 69,
     "metadata": {},
     "output_type": "execute_result"
    }
   ],
   "source": [
    "# Obtenção das previsões\n",
    "previsoes = arvore.predict(X_teste)\n",
    "previsoes"
   ]
  },
  {
   "cell_type": "code",
   "execution_count": 70,
   "metadata": {
    "lines_to_next_cell": 2
   },
   "outputs": [
    {
     "data": {
      "text/plain": [
       "array([[  0,   0,   2,   1,   0,   0],\n",
       "       [  0,   1,   9,   2,   3,   0],\n",
       "       [  1,   8, 144,  40,  14,   1],\n",
       "       [  0,   2,  62, 112,  25,   3],\n",
       "       [  0,   2,   3,  15,  23,   2],\n",
       "       [  0,   0,   0,   1,   4,   0]], dtype=int64)"
      ]
     },
     "execution_count": 70,
     "metadata": {},
     "output_type": "execute_result"
    }
   ],
   "source": [
    "#matriz de confusão\n",
    "confusao = confusion_matrix(y_teste, previsoes)\n",
    "confusao"
   ]
  },
  {
   "cell_type": "code",
   "execution_count": 71,
   "metadata": {
    "lines_to_next_cell": 2
   },
   "outputs": [
    {
     "data": {
      "text/plain": [
       "0.5833333333333334"
      ]
     },
     "execution_count": 71,
     "metadata": {},
     "output_type": "execute_result"
    }
   ],
   "source": [
    "#taxa acerto\n",
    "taxa_acerto = accuracy_score(y_teste, previsoes)\n",
    "taxa_acerto"
   ]
  },
  {
   "cell_type": "code",
   "execution_count": 72,
   "metadata": {
    "lines_to_next_cell": 2
   },
   "outputs": [
    {
     "data": {
      "text/plain": [
       "0.41666666666666663"
      ]
     },
     "execution_count": 72,
     "metadata": {},
     "output_type": "execute_result"
    }
   ],
   "source": [
    "#taxa erro\n",
    "taxa_erro = 1 - taxa_acerto\n",
    "taxa_erro"
   ]
  },
  {
   "cell_type": "code",
   "execution_count": null,
   "metadata": {},
   "outputs": [],
   "source": []
  },
  {
   "cell_type": "code",
   "execution_count": null,
   "metadata": {},
   "outputs": [],
   "source": []
  }
 ],
 "metadata": {
  "jupytext": {
   "cell_metadata_filter": "-all",
   "main_language": "python",
   "notebook_metadata_filter": "-all"
  },
  "kernelspec": {
   "display_name": "Python 3 (ipykernel)",
   "language": "python",
   "name": "python3"
  },
  "language_info": {
   "codemirror_mode": {
    "name": "ipython",
    "version": 3
   },
   "file_extension": ".py",
   "mimetype": "text/x-python",
   "name": "python",
   "nbconvert_exporter": "python",
   "pygments_lexer": "ipython3",
   "version": "3.9.12"
  }
 },
 "nbformat": 4,
 "nbformat_minor": 4
}
